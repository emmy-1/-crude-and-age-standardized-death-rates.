{
 "cells": [
  {
   "cell_type": "code",
   "execution_count": 13,
   "metadata": {},
   "outputs": [],
   "source": [
    "import pandas as pd\n",
    "import numpy as np\n"
   ]
  },
  {
   "cell_type": "code",
   "execution_count": 14,
   "metadata": {},
   "outputs": [
    {
     "data": {
      "text/html": [
       "<div>\n",
       "<style scoped>\n",
       "    .dataframe tbody tr th:only-of-type {\n",
       "        vertical-align: middle;\n",
       "    }\n",
       "\n",
       "    .dataframe tbody tr th {\n",
       "        vertical-align: top;\n",
       "    }\n",
       "\n",
       "    .dataframe thead th {\n",
       "        text-align: right;\n",
       "    }\n",
       "</style>\n",
       "<table border=\"1\" class=\"dataframe\">\n",
       "  <thead>\n",
       "    <tr style=\"text-align: right;\">\n",
       "      <th></th>\n",
       "      <th>Country</th>\n",
       "      <th>Year</th>\n",
       "      <th>Total Population, as of 1 January (thousands)</th>\n",
       "    </tr>\n",
       "  </thead>\n",
       "  <tbody>\n",
       "    <tr>\n",
       "      <th>0</th>\n",
       "      <td>Uganda</td>\n",
       "      <td>2019</td>\n",
       "      <td>42212</td>\n",
       "    </tr>\n",
       "    <tr>\n",
       "      <th>1</th>\n",
       "      <td>United States of America</td>\n",
       "      <td>2019</td>\n",
       "      <td>333251</td>\n",
       "    </tr>\n",
       "  </tbody>\n",
       "</table>\n",
       "</div>"
      ],
      "text/plain": [
       "                    Country  Year  \\\n",
       "0                    Uganda  2019   \n",
       "1  United States of America  2019   \n",
       "\n",
       "   Total Population, as of 1 January (thousands)  \n",
       "0                                          42212  \n",
       "1                                         333251  "
      ]
     },
     "execution_count": 14,
     "metadata": {},
     "output_type": "execute_result"
    }
   ],
   "source": [
    "StandardPop= pd.read_csv('Dataset/Population estimates as of January 1 in thousands 2019.csv')\n",
    "StandardPop.head()\n",
    "#Replace the column names for easier access\n",
    "StandardPop = StandardPop.rename(columns={'Region, subregion, country or area *': 'Country'})\n",
    "\n",
    "StandardPop.head()\n"
   ]
  },
  {
   "cell_type": "code",
   "execution_count": 15,
   "metadata": {},
   "outputs": [
    {
     "data": {
      "text/html": [
       "<div>\n",
       "<style scoped>\n",
       "    .dataframe tbody tr th:only-of-type {\n",
       "        vertical-align: middle;\n",
       "    }\n",
       "\n",
       "    .dataframe tbody tr th {\n",
       "        vertical-align: top;\n",
       "    }\n",
       "\n",
       "    .dataframe thead th {\n",
       "        text-align: right;\n",
       "    }\n",
       "</style>\n",
       "<table border=\"1\" class=\"dataframe\">\n",
       "  <thead>\n",
       "    <tr style=\"text-align: right;\">\n",
       "      <th></th>\n",
       "      <th>Age group (years)</th>\n",
       "      <th>United States of America</th>\n",
       "      <th>Unganda</th>\n",
       "      <th>COPDUs</th>\n",
       "      <th>COPDUg</th>\n",
       "    </tr>\n",
       "  </thead>\n",
       "  <tbody>\n",
       "    <tr>\n",
       "      <th>0</th>\n",
       "      <td>0-4</td>\n",
       "      <td>0.04</td>\n",
       "      <td>0.40</td>\n",
       "      <td>None</td>\n",
       "      <td>None</td>\n",
       "    </tr>\n",
       "    <tr>\n",
       "      <th>1</th>\n",
       "      <td>5-9</td>\n",
       "      <td>0.02</td>\n",
       "      <td>0.17</td>\n",
       "      <td>None</td>\n",
       "      <td>None</td>\n",
       "    </tr>\n",
       "    <tr>\n",
       "      <th>2</th>\n",
       "      <td>0-14</td>\n",
       "      <td>0.02</td>\n",
       "      <td>0.07</td>\n",
       "      <td>None</td>\n",
       "      <td>None</td>\n",
       "    </tr>\n",
       "    <tr>\n",
       "      <th>3</th>\n",
       "      <td>15-19</td>\n",
       "      <td>0.02</td>\n",
       "      <td>0.23</td>\n",
       "      <td>None</td>\n",
       "      <td>None</td>\n",
       "    </tr>\n",
       "    <tr>\n",
       "      <th>4</th>\n",
       "      <td>20-24</td>\n",
       "      <td>0.06</td>\n",
       "      <td>0.38</td>\n",
       "      <td>None</td>\n",
       "      <td>None</td>\n",
       "    </tr>\n",
       "  </tbody>\n",
       "</table>\n",
       "</div>"
      ],
      "text/plain": [
       "  Age group (years)  United States of America  Unganda COPDUs COPDUg\n",
       "0               0-4                      0.04     0.40   None   None\n",
       "1               5-9                      0.02     0.17   None   None\n",
       "2              0-14                      0.02     0.07   None   None\n",
       "3             15-19                      0.02     0.23   None   None\n",
       "4             20-24                      0.06     0.38   None   None"
      ]
     },
     "execution_count": 15,
     "metadata": {},
     "output_type": "execute_result"
    }
   ],
   "source": [
    "COPD = pd.read_csv('Dataset/agespecific death rates for COPD.csv')\n",
    "\n",
    "# This Tool changes the column1:row 1 to the right format as it was not in the right format in excel(showing as a date).\n",
    "COPD.loc[1, 'Age group (years)'] = '5-9'\n",
    "COPD = COPD.rename(columns={'Death rate, United States, 2019': 'United States of America'})\n",
    "COPD = COPD.rename(columns={'Death rate, Uganda, 2019': 'Unganda'})\n",
    "COPD['COPDUs'] = None\n",
    "COPD['COPDUg'] = None\n",
    "COPD.head()"
   ]
  },
  {
   "cell_type": "code",
   "execution_count": 20,
   "metadata": {},
   "outputs": [
    {
     "data": {
      "text/plain": [
       "2164.74"
      ]
     },
     "execution_count": 20,
     "metadata": {},
     "output_type": "execute_result"
    }
   ],
   "source": [
    "#Total Death Rate in the United States\n",
    "total_death_rate_USA = COPD['United States of America'].sum()\n",
    "total_death_rate_USA\n"
   ]
  },
  {
   "cell_type": "code",
   "execution_count": 19,
   "metadata": {},
   "outputs": [
    {
     "data": {
      "text/plain": [
       "2058.62"
      ]
     },
     "execution_count": 19,
     "metadata": {},
     "output_type": "execute_result"
    }
   ],
   "source": [
    "#Total Death Rate in the Uganda\n",
    "total_death_rate_Uganda = COPD['Unganda'].sum()\n",
    "total_death_rate_Uganda"
   ]
  },
  {
   "cell_type": "code",
   "execution_count": 25,
   "metadata": {},
   "outputs": [
    {
     "data": {
      "text/plain": [
       "649.6"
      ]
     },
     "execution_count": 25,
     "metadata": {},
     "output_type": "execute_result"
    }
   ],
   "source": [
    "\n",
    "\n",
    "# BEGIN: CrudeDeathRateUganda function \n",
    "def CrudeDeathRateUSA(total_death_rate_USA):\n",
    "    x = total_death_rate_USA/333251\n",
    "    y = x*100000\n",
    "    return round(y, 1)  # round to 1 decimal place\n",
    "\n",
    "CrudeDeathRateUSA(total_death_rate_USA)\n",
    "# END: CrudeDeathRateUganda function\n"
   ]
  },
  {
   "cell_type": "code",
   "execution_count": null,
   "metadata": {},
   "outputs": [],
   "source": []
  },
  {
   "cell_type": "code",
   "execution_count": 27,
   "metadata": {},
   "outputs": [
    {
     "data": {
      "text/plain": [
       "4876.9"
      ]
     },
     "execution_count": 27,
     "metadata": {},
     "output_type": "execute_result"
    }
   ],
   "source": [
    "# BEGIN: CrudeDeathRateUganda function modification\n",
    "def CrudeDeathRateUganda(total_death_rate_Uganda):\n",
    "    x = total_death_rate_Uganda/42212\n",
    "    y = x*100000\n",
    "    return round(y, 1)  # round to 1 decimal place\n",
    "\n",
    "CrudeDeathRateUganda(total_death_rate_Uganda)\n",
    "# END: CrudeDeathRateUganda function modification"
   ]
  },
  {
   "cell_type": "code",
   "execution_count": null,
   "metadata": {},
   "outputs": [],
   "source": []
  }
 ],
 "metadata": {
  "kernelspec": {
   "display_name": "Python 3",
   "language": "python",
   "name": "python3"
  },
  "language_info": {
   "codemirror_mode": {
    "name": "ipython",
    "version": 3
   },
   "file_extension": ".py",
   "mimetype": "text/x-python",
   "name": "python",
   "nbconvert_exporter": "python",
   "pygments_lexer": "ipython3",
   "version": "3.10.2"
  }
 },
 "nbformat": 4,
 "nbformat_minor": 2
}
